{
  "nbformat": 4,
  "nbformat_minor": 0,
  "metadata": {
    "colab": {
      "name": "Coronavirus_Plot_Analysis - Weekly_Dataset.ipynb",
      "private_outputs": true,
      "provenance": [],
      "collapsed_sections": [],
      "authorship_tag": "ABX9TyNxnGNrqmfZ/gQucXjcNHCQ",
      "include_colab_link": true
    },
    "kernelspec": {
      "name": "python3",
      "display_name": "Python 3"
    }
  },
  "cells": [
    {
      "cell_type": "markdown",
      "metadata": {
        "id": "view-in-github",
        "colab_type": "text"
      },
      "source": [
        "<a href=\"https://colab.research.google.com/github/aidasalova/COVID_analysis/blob/main/Coronavirus_Plot_Analysis_Weekly_Dataset.ipynb\" target=\"_parent\"><img src=\"https://colab.research.google.com/assets/colab-badge.svg\" alt=\"Open In Colab\"/></a>"
      ]
    },
    {
      "cell_type": "code",
      "metadata": {
        "cellView": "form",
        "id": "_CJnmqXY4Pt4"
      },
      "source": [
        "#@title STEP 1 - Import Libraries (Click on Run button)\n",
        "\n",
        "#Import libraries\n",
        "import pandas as pd\n",
        "import numpy as np\n",
        "import matplotlib.pyplot as plt\n",
        "import ipywidgets as widgets\n",
        "import seaborn as sns\n",
        "\n",
        "print(\"Step completed successfully\")"
      ],
      "execution_count": null,
      "outputs": []
    },
    {
      "cell_type": "code",
      "metadata": {
        "cellView": "form",
        "id": "zTb-plzL4dJ9"
      },
      "source": [
        "#@title STEP 2 - Import Weekly CSV Dataset from ECDC (Click on Run button)\n",
        "\n",
        "pd.options.mode.chained_assignment = None  # default='warn'\n",
        "\n",
        "def read_file(url, reps):\n",
        "  try:\n",
        "    df=pd.read_csv(url, parse_dates=[0], dayfirst=True)\n",
        "    df['dateRep']=pd.to_datetime(df['dateRep'], format='%Y-%m-%d')\n",
        "    df.sort_values(by='dateRep')\n",
        "    print(\"Step completed successfully\")\n",
        "    return df\n",
        "  except:\n",
        "    if reps <= 3:\n",
        "      read_file(url, reps+1)\n",
        "    else:\n",
        "      print(\"Cannot load the file, please try later\")\n",
        "\n",
        "df = read_file(\"https://opendata.ecdc.europa.eu/covid19/casedistribution/csv/data.csv\", 1)"
      ],
      "execution_count": null,
      "outputs": []
    },
    {
      "cell_type": "code",
      "metadata": {
        "cellView": "form",
        "id": "A6erdWh_4oOb"
      },
      "source": [
        "#@title STEP 3 - Enable country selection (Click on Run button)\n",
        "\n",
        "country_list = df.countriesAndTerritories.unique().tolist()\n",
        "\n",
        "country_input_1 = widgets.Dropdown(\n",
        "    options=country_list,\n",
        "    value=country_list[0],\n",
        "    description='Country:',\n",
        "    disabled=False,\n",
        ")\n",
        "country_input_2 = widgets.Dropdown(\n",
        "    options=country_list,\n",
        "    value=country_list[0],\n",
        "    description='Country:',\n",
        "    disabled=False,\n",
        ")\n",
        "\n",
        "print(\"Step completed successfully\")"
      ],
      "execution_count": null,
      "outputs": []
    },
    {
      "cell_type": "code",
      "metadata": {
        "cellView": "form",
        "id": "lHRo_Ki44vcG"
      },
      "source": [
        "#@title STEP 4.1 - Select country 1 from the dropdown\n",
        "\n",
        "country_input_1"
      ],
      "execution_count": null,
      "outputs": []
    },
    {
      "cell_type": "code",
      "metadata": {
        "cellView": "form",
        "id": "EezJv1L041xP"
      },
      "source": [
        "#@title STEP 4.2 - Select country 2 from the dropdown\n",
        "\n",
        "country_input_2"
      ],
      "execution_count": null,
      "outputs": []
    },
    {
      "cell_type": "code",
      "metadata": {
        "cellView": "form",
        "id": "3QEP0kyX466O"
      },
      "source": [
        "#@title STEP 5 - Define function to plot weekly COVID-19 cases for two selected countries (click on Run button)\n",
        "\n",
        "def my_graph_comparison():\n",
        "    #Subset dataset by chosen countries (create two subsets)\n",
        "    countrydf_comparison_1 = df[df[\"countriesAndTerritories\"] == country_input_1.value]\n",
        "    countrydf_comparison_2 = df[df[\"countriesAndTerritories\"] == country_input_2.value]\n",
        "    #Set x and y for the first plot\n",
        "    x_1 = countrydf_comparison_1[\"dateRep\"]\n",
        "    y_1 = countrydf_comparison_1[\"cases_weekly\"]\n",
        "    #Set x and y for the second plot\n",
        "    x_2 = countrydf_comparison_2[\"dateRep\"]\n",
        "    y_2 = countrydf_comparison_2[\"cases_weekly\"]\n",
        "    #Create plot\n",
        "    plt.figure(figsize=(20,10))\n",
        "    plt.plot(x_1,y_1, label=country_input_1.value)\n",
        "    plt.plot(x_2,y_2, label=country_input_2.value)\n",
        "    plt.legend()\n",
        "    plt.title(f\"Weekly Covid-19 cases in {country_input_1.value} and {country_input_2.value}\")   \n",
        "    plt.show()\n",
        "\n",
        "print(\"Step completed successfully\")"
      ],
      "execution_count": null,
      "outputs": []
    },
    {
      "cell_type": "code",
      "metadata": {
        "cellView": "form",
        "id": "iG44la-X5gyU"
      },
      "source": [
        "#@title STEP 6 - Define function to plot weekly COVID-19 deaths for two selected countries (click on Run button)\n",
        "\n",
        "def my_graph_weekly_deaths_comparison():\n",
        "    #Subset dataset by chosen countries (create two new subsets)\n",
        "    countrydf_comparison_1 = df[df[\"countriesAndTerritories\"] == country_input_1.value]\n",
        "    countrydf_comparison_2 = df[df[\"countriesAndTerritories\"] == country_input_2.value]\n",
        "    #Set x and y for the first plot\n",
        "    x_1 = countrydf_comparison_1[\"dateRep\"]\n",
        "    y_1 = countrydf_comparison_1[\"deaths_weekly\"]\n",
        "    #Set x and y for the second plot\n",
        "    x_2 = countrydf_comparison_2[\"dateRep\"]\n",
        "    y_2 = countrydf_comparison_2[\"deaths_weekly\"]\n",
        "    #Create plot\n",
        "    plt.figure(figsize=(20,10))\n",
        "    plt.plot(x_1,y_1, label=country_input_1.value)\n",
        "    plt.plot(x_2,y_2, label=country_input_2.value)\n",
        "    plt.legend()\n",
        "    plt.title(f\"Weekly Covid-19 deaths in {country_input_1.value} and {country_input_2.value}\")   \n",
        "    plt.show()\n",
        "\n",
        "print(\"Step completed successfully\")"
      ],
      "execution_count": null,
      "outputs": []
    },
    {
      "cell_type": "code",
      "metadata": {
        "cellView": "form",
        "id": "Yg_UYDrp50W0"
      },
      "source": [
        "#@title STEP 7 - Define function to plot weekly COVID-19 cases and deaths for two selected countries (click on Run button)\n",
        "\n",
        "def cases_deaths_comparison():\n",
        "    #Subset dataset by chosen countries (create two subsets)\n",
        "    countrydf_comparison_1 = df[df[\"countriesAndTerritories\"] == country_input_1.value]\n",
        "    countrydf_comparison_2 = df[df[\"countriesAndTerritories\"] == country_input_2.value]\n",
        "    #Set x and y for the first cases plot\n",
        "    x_1 = countrydf_comparison_1[\"dateRep\"]\n",
        "    y_1 = countrydf_comparison_1[\"cases_weekly\"]\n",
        "    #Set x and y for the second cases plot\n",
        "    x_2 = countrydf_comparison_2[\"dateRep\"]\n",
        "    y_2 = countrydf_comparison_2[\"cases_weekly\"]\n",
        "    #Set x and y for the first deaths plot\n",
        "    x_3 = countrydf_comparison_1[\"dateRep\"]\n",
        "    y_3 = countrydf_comparison_1[\"deaths_weekly\"]\n",
        "    #Set x and y for the second deaths plot\n",
        "    x_4 = countrydf_comparison_2[\"dateRep\"]\n",
        "    y_4 = countrydf_comparison_2[\"deaths_weekly\"]\n",
        "    #Create plot\n",
        "    plt.figure(figsize=(20,10))\n",
        "    plt.plot(x_1,y_1, label=(f\"Weekly cases in {country_input_1.value}\"))\n",
        "    plt.plot(x_2,y_2, label=(f\"Weekly cases in {country_input_2.value}\"))\n",
        "    plt.plot(x_3, y_3, label=(f\"Weekly deaths in {country_input_1.value}\"))\n",
        "    plt.plot(x_4, y_4, label=(f\"Weekly deaths in {country_input_2.value}\"))\n",
        "    plt.yscale(\"log\")\n",
        "    plt.legend()\n",
        "    plt.title(f\"Weekly Covid-19 cases and deaths in {country_input_1.value} and {country_input_2.value}\")   \n",
        "    plt.show()\n",
        "\n",
        "print(\"Step completed successfully\")"
      ],
      "execution_count": null,
      "outputs": []
    },
    {
      "cell_type": "code",
      "metadata": {
        "cellView": "form",
        "id": "SgTJ8AEq5-EJ"
      },
      "source": [
        "#@title STEP 8 - Define function to calculate countries' percentile by the weekly amount of COVID-19 cases and deaths (click on Run button)\n",
        "\n",
        "def percentil_absolute_comp_2():\n",
        "    \n",
        "    #Select the latest number weekly cases and deaths and calculate percentile\n",
        "    df_latest = df[df[\"dateRep\"] == df[\"dateRep\"].max()]\n",
        "    df_latest[\"pct_rank_cases\"] = df_latest[\"cases_weekly\"].rank(pct=True)\n",
        "    df_latest[\"pct_rank_deaths\"] = df_latest[\"deaths_weekly\"].rank(pct=True)\n",
        "    #Subset for the selected countries\n",
        "    country_percentil_df_1 = df_latest[df_latest[\"countriesAndTerritories\"] == country_input_1.value].reset_index()\n",
        "    country_percentil_df_2 = df_latest[df_latest[\"countriesAndTerritories\"] == country_input_2.value].reset_index()\n",
        "    #Round the percentiles for cases and put in %\n",
        "    country_percentil_cases_df_pct_1 = round(country_percentil_df_1.iloc[0, -2] * 100, 2)\n",
        "    country_percentil_cases_df_pct_2 = round(country_percentil_df_2.iloc[0, -2] * 100, 2)\n",
        "    #Subset the absolute number of cases\n",
        "    country_percentil_cases_df_absolute_1 = country_percentil_df_1.iloc[0, 3]\n",
        "    country_percentil_cases_df_absolute_2 = country_percentil_df_2.iloc[0, 3]\n",
        "    #Round the percentiles for deaths and put in %\n",
        "    country_percentil_deaths_df_pct_1 = round(country_percentil_df_1.iloc[0, -1] * 100, 2)\n",
        "    country_percentil_deaths_df_pct_2 = round(country_percentil_df_2.iloc[0, -1] * 100, 2)\n",
        "    #Subset the absolute number of deaths\n",
        "    country_percentil_deaths_df_absolute_1 = country_percentil_df_1.iloc[0, 4]\n",
        "    country_percentil_deaths_df_absolute_2 = country_percentil_df_2.iloc[0, 4]\n",
        "    \n",
        "    #Print the results\n",
        "    print(f\"{country_input_1.value} is at percentile {country_percentil_cases_df_pct_1} in the world by the latest weekly amount of Covid-19 cases with {country_percentil_cases_df_absolute_1} weekly cases\")\n",
        "    print(f\"{country_input_2.value} is at percentile {country_percentil_cases_df_pct_2} in the world by the latest weekly amount of Covid-19 cases with {country_percentil_cases_df_absolute_2} weekly cases\")\n",
        "    print(f\"{country_input_1.value} is at percentile {country_percentil_deaths_df_pct_1} in the world by the latest weekly amount of Covid-19 deaths with {country_percentil_deaths_df_absolute_1} weekly deaths\")\n",
        "    print(f\"{country_input_2.value} is at percentile {country_percentil_deaths_df_pct_2} in the world by the latest weekly amount of Covid-19 deaths with {country_percentil_deaths_df_absolute_2} weekly deaths\")\n",
        "\n",
        "print(\"Step completed successfully\")"
      ],
      "execution_count": null,
      "outputs": []
    },
    {
      "cell_type": "code",
      "metadata": {
        "cellView": "form",
        "id": "6v8G5ETe6RZZ"
      },
      "source": [
        "#@title STEP 9 - Define function to boxplot the latest global cases and deaths by continent\n",
        "\n",
        "def my_boxplot():\n",
        "    df_latest = df[df[\"dateRep\"] == df[\"dateRep\"].max()]\n",
        "    fig1 = sns.boxplot(x=\"continentExp\", y=\"cases_weekly\", data=df_latest)\n",
        "    fig1.set_yscale(\"log\")\n",
        "    fig1.set_title(\"Weekly cases globally\")\n",
        "    fig1.set(xlabel='Continent', ylabel='Weekly Cases')\n",
        "    plt.show()\n",
        "    fig2 = sns.boxplot(x=\"continentExp\", y=\"deaths_weekly\", data=df_latest)\n",
        "    fig2.set_yscale(\"log\")\n",
        "    fig2.set_title(\"Weekly deaths globally\")\n",
        "    fig2.set(xlabel='Continent', ylabel='Weekly Deaths')\n",
        "    plt.show()\n",
        "\n",
        "print(\"Step completed successfully\")"
      ],
      "execution_count": null,
      "outputs": []
    },
    {
      "cell_type": "code",
      "metadata": {
        "cellView": "form",
        "id": "5bmZONkz6ZG5"
      },
      "source": [
        "#@title STEP 10 - Visualize all results from the above functions (click on Run and view the output below)\n",
        "\n",
        "my_graph_comparison()\n",
        "my_graph_weekly_deaths_comparison()\n",
        "cases_deaths_comparison()\n",
        "percentil_absolute_comp_2()\n",
        "my_boxplot()"
      ],
      "execution_count": null,
      "outputs": []
    }
  ]
}